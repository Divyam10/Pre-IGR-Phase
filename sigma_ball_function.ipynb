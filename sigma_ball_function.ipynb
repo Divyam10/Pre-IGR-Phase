{
 "cells": [
  {
   "cell_type": "code",
   "execution_count": 139,
   "id": "cd9e0bc8-f5ac-4572-bfa2-b99bbf91441f",
   "metadata": {},
   "outputs": [],
   "source": [
    "import torch \n",
    "import open3d as o3d\n",
    "import torch.nn as nn \n",
    "import os\n",
    "import trimesh\n",
    "import numpy as np\n",
    "import math"
   ]
  },
  {
   "cell_type": "code",
   "execution_count": 8,
   "id": "b1abaaa9-3668-4a89-9aba-d7a8bc74a44a",
   "metadata": {},
   "outputs": [],
   "source": [
    "def load_point_cloud_by_file_extension(file_name  = \"/home/ai/Desktop/Preimage_Implicit_DLTaskData/armadillo_10000.xyz\"):\n",
    "\n",
    "    ext = file_name.split('.')[-1]\n",
    "\n",
    "    if ext == \"npz\" or ext == \"npy\":\n",
    "        point_set = torch.tensor(np.load(file_name)).float()\n",
    "    else:\n",
    "        point_set = torch.tensor(trimesh.load(file_name, \"xyz\").vertices).float()\n",
    "\n",
    "    return point_set"
   ]
  },
  {
   "cell_type": "code",
   "execution_count": 144,
   "id": "2c31c051-c0b2-40a7-99fa-bacbcef17338",
   "metadata": {},
   "outputs": [
    {
     "data": {
      "text/plain": [
       "tensor(0.2377)"
      ]
     },
     "execution_count": 144,
     "metadata": {},
     "output_type": "execute_result"
    }
   ],
   "source": [
    "data = load_point_cloud_by_file_extension()\n"
   ]
  },
  {
   "cell_type": "code",
   "execution_count": 65,
   "id": "2f05885b-a468-4034-a63d-0b90a50f8466",
   "metadata": {},
   "outputs": [
    {
     "data": {
      "text/plain": [
       "(1.26818, 1.9414015, 0.78549665)"
      ]
     },
     "execution_count": 65,
     "metadata": {},
     "output_type": "execute_result"
    }
   ],
   "source": [
    "x2,y2,z2= torch.max(data, axis = 0).values.numpy()\n",
    "x2,y2,z2"
   ]
  },
  {
   "cell_type": "code",
   "execution_count": 71,
   "id": "15f08c8f-b531-4159-ac8a-2c100a7c8993",
   "metadata": {},
   "outputs": [
    {
     "data": {
      "text/plain": [
       "(-1.2706181, -1.056159, -0.98085314)"
      ]
     },
     "execution_count": 71,
     "metadata": {},
     "output_type": "execute_result"
    }
   ],
   "source": [
    "x1, y1, z1 = torch.min(data, axis=0).values.numpy()\n",
    "x1,y1,z1"
   ]
  },
  {
   "cell_type": "code",
   "execution_count": 117,
   "id": "3ce5b6fc-af01-463b-ae70-8fc2f9136950",
   "metadata": {
    "tags": []
   },
   "outputs": [],
   "source": [
    "\n",
    "n = 2000\n",
    "\n",
    "xs = 1.5*((x2 - x1)*np.random.rand(n) + x1)\n",
    "ys = 1.5*((y2 - y1)*np.random.rand(n) + y1)\n",
    "zs = 1.5*((z2 - z1)*np.random.rand(n) + z1)"
   ]
  },
  {
   "cell_type": "code",
   "execution_count": 118,
   "id": "0281c3e3-9add-4ad8-837c-a1e39650045a",
   "metadata": {},
   "outputs": [
    {
     "data": {
      "text/plain": [
       "(1.9014745784127072, -1.903348471737519)"
      ]
     },
     "execution_count": 118,
     "metadata": {},
     "output_type": "execute_result"
    }
   ],
   "source": [
    "np.max(xs), np.min(xs)"
   ]
  },
  {
   "cell_type": "code",
   "execution_count": 121,
   "id": "3ce125e7-54da-4021-99d7-89292382f1a3",
   "metadata": {},
   "outputs": [],
   "source": [
    "##Ball \n",
    "# x=rsinϕcosθ\n",
    "# y=rsinϕsinθ\n",
    "# z=rcosϕ"
   ]
  },
  {
   "cell_type": "code",
   "execution_count": 168,
   "id": "0b5822ef-8c4b-468b-921d-fcea66656582",
   "metadata": {},
   "outputs": [],
   "source": [
    "\n",
    "def get_ball_points(data):\n",
    "    r = 0.01\n",
    "    x_sb, y_sb, z_sb = [],[],[]\n",
    "\n",
    "    for xo,yo,zo in data:\n",
    "\n",
    "        for i in range(0,50):\n",
    "\n",
    "            theta = random.uniform(*(0, 360))\n",
    "            phi   = random.uniform(*(0, 360))\n",
    "\n",
    "            x_sb.append(xo + math.sin(phi)* math.cos(theta)*r)\n",
    "            y_sb.append(math.sin(phi)* math.sin(theta)*r)\n",
    "            z_sb.append(math.cos(phi)*r)\n",
    "            \n",
    "    return torch.tensor(list(zip(x_sb, y_sb, z_sb)))"
   ]
  },
  {
   "cell_type": "code",
   "execution_count": 170,
   "id": "db6ffdfc-9c2e-43d1-a9d5-093e39dc12ff",
   "metadata": {},
   "outputs": [
    {
     "data": {
      "text/plain": [
       "torch.Size([504900, 3])"
      ]
     },
     "execution_count": 170,
     "metadata": {},
     "output_type": "execute_result"
    }
   ],
   "source": [
    "get_ball_points(data).shape"
   ]
  },
  {
   "cell_type": "code",
   "execution_count": 164,
   "id": "d043e614-6db6-4857-b60e-21a8f16e16e8",
   "metadata": {},
   "outputs": [
    {
     "data": {
      "text/plain": [
       "197538"
      ]
     },
     "execution_count": 164,
     "metadata": {},
     "output_type": "execute_result"
    }
   ],
   "source": []
  },
  {
   "cell_type": "code",
   "execution_count": null,
   "id": "2d15ccf7-1247-4b64-af25-572443d33690",
   "metadata": {},
   "outputs": [],
   "source": []
  }
 ],
 "metadata": {
  "kernelspec": {
   "display_name": "3dp",
   "language": "python",
   "name": "3dp"
  },
  "language_info": {
   "codemirror_mode": {
    "name": "ipython",
    "version": 3
   },
   "file_extension": ".py",
   "mimetype": "text/x-python",
   "name": "python",
   "nbconvert_exporter": "python",
   "pygments_lexer": "ipython3",
   "version": "3.7.13"
  }
 },
 "nbformat": 4,
 "nbformat_minor": 5
}
